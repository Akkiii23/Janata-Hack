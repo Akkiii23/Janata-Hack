{
 "cells": [
  {
   "cell_type": "code",
   "execution_count": 1,
   "metadata": {},
   "outputs": [],
   "source": [
    "import pandas as pd\n",
    "import numpy as np\n",
    "import matplotlib.pyplot as plt\n",
    "%matplotlib inline\n",
    "import seaborn as sns"
   ]
  },
  {
   "cell_type": "code",
   "execution_count": 2,
   "metadata": {},
   "outputs": [],
   "source": [
    "train = pd.read_csv('train.csv')\n",
    "test = pd.read_csv('test.csv')"
   ]
  },
  {
   "cell_type": "code",
   "execution_count": 3,
   "metadata": {},
   "outputs": [
    {
     "data": {
      "text/html": [
       "<div>\n",
       "<style scoped>\n",
       "    .dataframe tbody tr th:only-of-type {\n",
       "        vertical-align: middle;\n",
       "    }\n",
       "\n",
       "    .dataframe tbody tr th {\n",
       "        vertical-align: top;\n",
       "    }\n",
       "\n",
       "    .dataframe thead th {\n",
       "        text-align: right;\n",
       "    }\n",
       "</style>\n",
       "<table border=\"1\" class=\"dataframe\">\n",
       "  <thead>\n",
       "    <tr style=\"text-align: right;\">\n",
       "      <th></th>\n",
       "      <th>ID</th>\n",
       "      <th>LIMIT_BAL</th>\n",
       "      <th>SEX</th>\n",
       "      <th>EDUCATION</th>\n",
       "      <th>MARRIAGE</th>\n",
       "      <th>AGE</th>\n",
       "      <th>PAY_0</th>\n",
       "      <th>PAY_2</th>\n",
       "      <th>PAY_3</th>\n",
       "      <th>PAY_4</th>\n",
       "      <th>...</th>\n",
       "      <th>BILL_AMT4</th>\n",
       "      <th>BILL_AMT5</th>\n",
       "      <th>BILL_AMT6</th>\n",
       "      <th>PAY_AMT1</th>\n",
       "      <th>PAY_AMT2</th>\n",
       "      <th>PAY_AMT3</th>\n",
       "      <th>PAY_AMT4</th>\n",
       "      <th>PAY_AMT5</th>\n",
       "      <th>PAY_AMT6</th>\n",
       "      <th>default_payment_next_month</th>\n",
       "    </tr>\n",
       "  </thead>\n",
       "  <tbody>\n",
       "    <tr>\n",
       "      <td>0</td>\n",
       "      <td>25150</td>\n",
       "      <td>360000</td>\n",
       "      <td>2</td>\n",
       "      <td>2</td>\n",
       "      <td>2</td>\n",
       "      <td>25</td>\n",
       "      <td>-1</td>\n",
       "      <td>-1</td>\n",
       "      <td>-1</td>\n",
       "      <td>-1</td>\n",
       "      <td>...</td>\n",
       "      <td>3435</td>\n",
       "      <td>8870</td>\n",
       "      <td>2020</td>\n",
       "      <td>12590</td>\n",
       "      <td>3479</td>\n",
       "      <td>3446</td>\n",
       "      <td>8870</td>\n",
       "      <td>2020</td>\n",
       "      <td>27043</td>\n",
       "      <td>0</td>\n",
       "    </tr>\n",
       "    <tr>\n",
       "      <td>1</td>\n",
       "      <td>13470</td>\n",
       "      <td>240000</td>\n",
       "      <td>2</td>\n",
       "      <td>1</td>\n",
       "      <td>2</td>\n",
       "      <td>46</td>\n",
       "      <td>2</td>\n",
       "      <td>2</td>\n",
       "      <td>-2</td>\n",
       "      <td>-1</td>\n",
       "      <td>...</td>\n",
       "      <td>2240</td>\n",
       "      <td>1681</td>\n",
       "      <td>2267</td>\n",
       "      <td>0</td>\n",
       "      <td>0</td>\n",
       "      <td>2240</td>\n",
       "      <td>0</td>\n",
       "      <td>2267</td>\n",
       "      <td>3074</td>\n",
       "      <td>0</td>\n",
       "    </tr>\n",
       "    <tr>\n",
       "      <td>2</td>\n",
       "      <td>3092</td>\n",
       "      <td>320000</td>\n",
       "      <td>2</td>\n",
       "      <td>2</td>\n",
       "      <td>1</td>\n",
       "      <td>41</td>\n",
       "      <td>0</td>\n",
       "      <td>0</td>\n",
       "      <td>0</td>\n",
       "      <td>0</td>\n",
       "      <td>...</td>\n",
       "      <td>35409</td>\n",
       "      <td>35036</td>\n",
       "      <td>35939</td>\n",
       "      <td>5000</td>\n",
       "      <td>2000</td>\n",
       "      <td>2000</td>\n",
       "      <td>3000</td>\n",
       "      <td>3000</td>\n",
       "      <td>1500</td>\n",
       "      <td>0</td>\n",
       "    </tr>\n",
       "    <tr>\n",
       "      <td>3</td>\n",
       "      <td>13973</td>\n",
       "      <td>50000</td>\n",
       "      <td>2</td>\n",
       "      <td>2</td>\n",
       "      <td>2</td>\n",
       "      <td>24</td>\n",
       "      <td>-1</td>\n",
       "      <td>-1</td>\n",
       "      <td>-2</td>\n",
       "      <td>-2</td>\n",
       "      <td>...</td>\n",
       "      <td>0</td>\n",
       "      <td>0</td>\n",
       "      <td>0</td>\n",
       "      <td>0</td>\n",
       "      <td>0</td>\n",
       "      <td>0</td>\n",
       "      <td>0</td>\n",
       "      <td>0</td>\n",
       "      <td>0</td>\n",
       "      <td>1</td>\n",
       "    </tr>\n",
       "    <tr>\n",
       "      <td>4</td>\n",
       "      <td>10567</td>\n",
       "      <td>80000</td>\n",
       "      <td>1</td>\n",
       "      <td>3</td>\n",
       "      <td>1</td>\n",
       "      <td>52</td>\n",
       "      <td>-1</td>\n",
       "      <td>0</td>\n",
       "      <td>0</td>\n",
       "      <td>0</td>\n",
       "      <td>...</td>\n",
       "      <td>20561</td>\n",
       "      <td>21261</td>\n",
       "      <td>21457</td>\n",
       "      <td>1500</td>\n",
       "      <td>1500</td>\n",
       "      <td>1500</td>\n",
       "      <td>1028</td>\n",
       "      <td>876</td>\n",
       "      <td>1449</td>\n",
       "      <td>0</td>\n",
       "    </tr>\n",
       "  </tbody>\n",
       "</table>\n",
       "<p>5 rows × 25 columns</p>\n",
       "</div>"
      ],
      "text/plain": [
       "      ID  LIMIT_BAL  SEX  EDUCATION  MARRIAGE  AGE  PAY_0  PAY_2  PAY_3  \\\n",
       "0  25150     360000    2          2         2   25     -1     -1     -1   \n",
       "1  13470     240000    2          1         2   46      2      2     -2   \n",
       "2   3092     320000    2          2         1   41      0      0      0   \n",
       "3  13973      50000    2          2         2   24     -1     -1     -2   \n",
       "4  10567      80000    1          3         1   52     -1      0      0   \n",
       "\n",
       "   PAY_4  ...  BILL_AMT4  BILL_AMT5  BILL_AMT6  PAY_AMT1  PAY_AMT2  PAY_AMT3  \\\n",
       "0     -1  ...       3435       8870       2020     12590      3479      3446   \n",
       "1     -1  ...       2240       1681       2267         0         0      2240   \n",
       "2      0  ...      35409      35036      35939      5000      2000      2000   \n",
       "3     -2  ...          0          0          0         0         0         0   \n",
       "4      0  ...      20561      21261      21457      1500      1500      1500   \n",
       "\n",
       "   PAY_AMT4  PAY_AMT5  PAY_AMT6  default_payment_next_month  \n",
       "0      8870      2020     27043                           0  \n",
       "1         0      2267      3074                           0  \n",
       "2      3000      3000      1500                           0  \n",
       "3         0         0         0                           1  \n",
       "4      1028       876      1449                           0  \n",
       "\n",
       "[5 rows x 25 columns]"
      ]
     },
     "execution_count": 3,
     "metadata": {},
     "output_type": "execute_result"
    }
   ],
   "source": [
    "train.head()"
   ]
  },
  {
   "cell_type": "code",
   "execution_count": 4,
   "metadata": {},
   "outputs": [
    {
     "data": {
      "text/plain": [
       "(21000, 25)"
      ]
     },
     "execution_count": 4,
     "metadata": {},
     "output_type": "execute_result"
    }
   ],
   "source": [
    "train.shape"
   ]
  },
  {
   "cell_type": "code",
   "execution_count": 5,
   "metadata": {},
   "outputs": [
    {
     "name": "stdout",
     "output_type": "stream",
     "text": [
      "<class 'pandas.core.frame.DataFrame'>\n",
      "RangeIndex: 21000 entries, 0 to 20999\n",
      "Data columns (total 25 columns):\n",
      "ID                            21000 non-null int64\n",
      "LIMIT_BAL                     21000 non-null int64\n",
      "SEX                           21000 non-null int64\n",
      "EDUCATION                     21000 non-null int64\n",
      "MARRIAGE                      21000 non-null int64\n",
      "AGE                           21000 non-null int64\n",
      "PAY_0                         21000 non-null int64\n",
      "PAY_2                         21000 non-null int64\n",
      "PAY_3                         21000 non-null int64\n",
      "PAY_4                         21000 non-null int64\n",
      "PAY_5                         21000 non-null int64\n",
      "PAY_6                         21000 non-null int64\n",
      "BILL_AMT1                     21000 non-null int64\n",
      "BILL_AMT2                     21000 non-null int64\n",
      "BILL_AMT3                     21000 non-null int64\n",
      "BILL_AMT4                     21000 non-null int64\n",
      "BILL_AMT5                     21000 non-null int64\n",
      "BILL_AMT6                     21000 non-null int64\n",
      "PAY_AMT1                      21000 non-null int64\n",
      "PAY_AMT2                      21000 non-null int64\n",
      "PAY_AMT3                      21000 non-null int64\n",
      "PAY_AMT4                      21000 non-null int64\n",
      "PAY_AMT5                      21000 non-null int64\n",
      "PAY_AMT6                      21000 non-null int64\n",
      "default_payment_next_month    21000 non-null int64\n",
      "dtypes: int64(25)\n",
      "memory usage: 4.0 MB\n"
     ]
    }
   ],
   "source": [
    "train.info()"
   ]
  },
  {
   "cell_type": "code",
   "execution_count": 6,
   "metadata": {},
   "outputs": [
    {
     "data": {
      "text/html": [
       "<div>\n",
       "<style scoped>\n",
       "    .dataframe tbody tr th:only-of-type {\n",
       "        vertical-align: middle;\n",
       "    }\n",
       "\n",
       "    .dataframe tbody tr th {\n",
       "        vertical-align: top;\n",
       "    }\n",
       "\n",
       "    .dataframe thead th {\n",
       "        text-align: right;\n",
       "    }\n",
       "</style>\n",
       "<table border=\"1\" class=\"dataframe\">\n",
       "  <thead>\n",
       "    <tr style=\"text-align: right;\">\n",
       "      <th></th>\n",
       "      <th>count</th>\n",
       "      <th>mean</th>\n",
       "      <th>std</th>\n",
       "      <th>min</th>\n",
       "      <th>25%</th>\n",
       "      <th>50%</th>\n",
       "      <th>75%</th>\n",
       "      <th>max</th>\n",
       "    </tr>\n",
       "  </thead>\n",
       "  <tbody>\n",
       "    <tr>\n",
       "      <td>ID</td>\n",
       "      <td>21000.0</td>\n",
       "      <td>14949.183667</td>\n",
       "      <td>8632.775153</td>\n",
       "      <td>1.0</td>\n",
       "      <td>7508.75</td>\n",
       "      <td>14939.5</td>\n",
       "      <td>22386.75</td>\n",
       "      <td>29998.0</td>\n",
       "    </tr>\n",
       "    <tr>\n",
       "      <td>LIMIT_BAL</td>\n",
       "      <td>21000.0</td>\n",
       "      <td>167214.746667</td>\n",
       "      <td>128965.188482</td>\n",
       "      <td>10000.0</td>\n",
       "      <td>50000.00</td>\n",
       "      <td>140000.0</td>\n",
       "      <td>240000.00</td>\n",
       "      <td>800000.0</td>\n",
       "    </tr>\n",
       "    <tr>\n",
       "      <td>SEX</td>\n",
       "      <td>21000.0</td>\n",
       "      <td>1.607571</td>\n",
       "      <td>0.488303</td>\n",
       "      <td>1.0</td>\n",
       "      <td>1.00</td>\n",
       "      <td>2.0</td>\n",
       "      <td>2.00</td>\n",
       "      <td>2.0</td>\n",
       "    </tr>\n",
       "    <tr>\n",
       "      <td>EDUCATION</td>\n",
       "      <td>21000.0</td>\n",
       "      <td>1.854190</td>\n",
       "      <td>0.791628</td>\n",
       "      <td>0.0</td>\n",
       "      <td>1.00</td>\n",
       "      <td>2.0</td>\n",
       "      <td>2.00</td>\n",
       "      <td>6.0</td>\n",
       "    </tr>\n",
       "    <tr>\n",
       "      <td>MARRIAGE</td>\n",
       "      <td>21000.0</td>\n",
       "      <td>1.551714</td>\n",
       "      <td>0.521176</td>\n",
       "      <td>0.0</td>\n",
       "      <td>1.00</td>\n",
       "      <td>2.0</td>\n",
       "      <td>2.00</td>\n",
       "      <td>3.0</td>\n",
       "    </tr>\n",
       "    <tr>\n",
       "      <td>AGE</td>\n",
       "      <td>21000.0</td>\n",
       "      <td>35.461619</td>\n",
       "      <td>9.206628</td>\n",
       "      <td>21.0</td>\n",
       "      <td>28.00</td>\n",
       "      <td>34.0</td>\n",
       "      <td>41.00</td>\n",
       "      <td>75.0</td>\n",
       "    </tr>\n",
       "    <tr>\n",
       "      <td>PAY_0</td>\n",
       "      <td>21000.0</td>\n",
       "      <td>-0.011190</td>\n",
       "      <td>1.123210</td>\n",
       "      <td>-2.0</td>\n",
       "      <td>-1.00</td>\n",
       "      <td>0.0</td>\n",
       "      <td>0.00</td>\n",
       "      <td>8.0</td>\n",
       "    </tr>\n",
       "    <tr>\n",
       "      <td>PAY_2</td>\n",
       "      <td>21000.0</td>\n",
       "      <td>-0.127238</td>\n",
       "      <td>1.198957</td>\n",
       "      <td>-2.0</td>\n",
       "      <td>-1.00</td>\n",
       "      <td>0.0</td>\n",
       "      <td>0.00</td>\n",
       "      <td>8.0</td>\n",
       "    </tr>\n",
       "    <tr>\n",
       "      <td>PAY_3</td>\n",
       "      <td>21000.0</td>\n",
       "      <td>-0.164857</td>\n",
       "      <td>1.198624</td>\n",
       "      <td>-2.0</td>\n",
       "      <td>-1.00</td>\n",
       "      <td>0.0</td>\n",
       "      <td>0.00</td>\n",
       "      <td>8.0</td>\n",
       "    </tr>\n",
       "    <tr>\n",
       "      <td>PAY_4</td>\n",
       "      <td>21000.0</td>\n",
       "      <td>-0.218190</td>\n",
       "      <td>1.172210</td>\n",
       "      <td>-2.0</td>\n",
       "      <td>-1.00</td>\n",
       "      <td>0.0</td>\n",
       "      <td>0.00</td>\n",
       "      <td>8.0</td>\n",
       "    </tr>\n",
       "    <tr>\n",
       "      <td>PAY_5</td>\n",
       "      <td>21000.0</td>\n",
       "      <td>-0.260952</td>\n",
       "      <td>1.141454</td>\n",
       "      <td>-2.0</td>\n",
       "      <td>-1.00</td>\n",
       "      <td>0.0</td>\n",
       "      <td>0.00</td>\n",
       "      <td>8.0</td>\n",
       "    </tr>\n",
       "    <tr>\n",
       "      <td>PAY_6</td>\n",
       "      <td>21000.0</td>\n",
       "      <td>-0.288667</td>\n",
       "      <td>1.151592</td>\n",
       "      <td>-2.0</td>\n",
       "      <td>-1.00</td>\n",
       "      <td>0.0</td>\n",
       "      <td>0.00</td>\n",
       "      <td>8.0</td>\n",
       "    </tr>\n",
       "    <tr>\n",
       "      <td>BILL_AMT1</td>\n",
       "      <td>21000.0</td>\n",
       "      <td>51501.542381</td>\n",
       "      <td>73453.641859</td>\n",
       "      <td>-14386.0</td>\n",
       "      <td>3564.75</td>\n",
       "      <td>22578.0</td>\n",
       "      <td>67876.25</td>\n",
       "      <td>746814.0</td>\n",
       "    </tr>\n",
       "    <tr>\n",
       "      <td>BILL_AMT2</td>\n",
       "      <td>21000.0</td>\n",
       "      <td>49463.502667</td>\n",
       "      <td>70866.586004</td>\n",
       "      <td>-69777.0</td>\n",
       "      <td>3000.00</td>\n",
       "      <td>21550.0</td>\n",
       "      <td>64918.25</td>\n",
       "      <td>743970.0</td>\n",
       "    </tr>\n",
       "    <tr>\n",
       "      <td>BILL_AMT3</td>\n",
       "      <td>21000.0</td>\n",
       "      <td>47232.577762</td>\n",
       "      <td>69539.883466</td>\n",
       "      <td>-157264.0</td>\n",
       "      <td>2686.25</td>\n",
       "      <td>20242.0</td>\n",
       "      <td>60826.75</td>\n",
       "      <td>1664089.0</td>\n",
       "    </tr>\n",
       "    <tr>\n",
       "      <td>BILL_AMT4</td>\n",
       "      <td>21000.0</td>\n",
       "      <td>43387.372476</td>\n",
       "      <td>64081.073110</td>\n",
       "      <td>-170000.0</td>\n",
       "      <td>2332.00</td>\n",
       "      <td>19158.5</td>\n",
       "      <td>55376.75</td>\n",
       "      <td>706864.0</td>\n",
       "    </tr>\n",
       "    <tr>\n",
       "      <td>BILL_AMT5</td>\n",
       "      <td>21000.0</td>\n",
       "      <td>40398.551095</td>\n",
       "      <td>60396.811177</td>\n",
       "      <td>-81334.0</td>\n",
       "      <td>1759.00</td>\n",
       "      <td>18266.5</td>\n",
       "      <td>50517.25</td>\n",
       "      <td>587067.0</td>\n",
       "    </tr>\n",
       "    <tr>\n",
       "      <td>BILL_AMT6</td>\n",
       "      <td>21000.0</td>\n",
       "      <td>38931.194000</td>\n",
       "      <td>59196.499234</td>\n",
       "      <td>-209051.0</td>\n",
       "      <td>1242.75</td>\n",
       "      <td>17203.5</td>\n",
       "      <td>49463.00</td>\n",
       "      <td>699944.0</td>\n",
       "    </tr>\n",
       "    <tr>\n",
       "      <td>PAY_AMT1</td>\n",
       "      <td>21000.0</td>\n",
       "      <td>5686.349333</td>\n",
       "      <td>16868.075695</td>\n",
       "      <td>0.0</td>\n",
       "      <td>998.25</td>\n",
       "      <td>2100.0</td>\n",
       "      <td>5023.25</td>\n",
       "      <td>873552.0</td>\n",
       "    </tr>\n",
       "    <tr>\n",
       "      <td>PAY_AMT2</td>\n",
       "      <td>21000.0</td>\n",
       "      <td>5923.003476</td>\n",
       "      <td>23909.526477</td>\n",
       "      <td>0.0</td>\n",
       "      <td>836.00</td>\n",
       "      <td>2011.0</td>\n",
       "      <td>5000.00</td>\n",
       "      <td>1684259.0</td>\n",
       "    </tr>\n",
       "    <tr>\n",
       "      <td>PAY_AMT3</td>\n",
       "      <td>21000.0</td>\n",
       "      <td>5202.325333</td>\n",
       "      <td>17006.416467</td>\n",
       "      <td>0.0</td>\n",
       "      <td>390.00</td>\n",
       "      <td>1811.5</td>\n",
       "      <td>4500.00</td>\n",
       "      <td>889043.0</td>\n",
       "    </tr>\n",
       "    <tr>\n",
       "      <td>PAY_AMT4</td>\n",
       "      <td>21000.0</td>\n",
       "      <td>4793.172000</td>\n",
       "      <td>15467.403159</td>\n",
       "      <td>0.0</td>\n",
       "      <td>284.00</td>\n",
       "      <td>1500.0</td>\n",
       "      <td>4002.25</td>\n",
       "      <td>621000.0</td>\n",
       "    </tr>\n",
       "    <tr>\n",
       "      <td>PAY_AMT5</td>\n",
       "      <td>21000.0</td>\n",
       "      <td>4797.012952</td>\n",
       "      <td>15270.031988</td>\n",
       "      <td>0.0</td>\n",
       "      <td>241.00</td>\n",
       "      <td>1500.0</td>\n",
       "      <td>4051.00</td>\n",
       "      <td>417990.0</td>\n",
       "    </tr>\n",
       "    <tr>\n",
       "      <td>PAY_AMT6</td>\n",
       "      <td>21000.0</td>\n",
       "      <td>5211.736762</td>\n",
       "      <td>17698.795697</td>\n",
       "      <td>0.0</td>\n",
       "      <td>102.00</td>\n",
       "      <td>1500.0</td>\n",
       "      <td>4000.00</td>\n",
       "      <td>528666.0</td>\n",
       "    </tr>\n",
       "    <tr>\n",
       "      <td>default_payment_next_month</td>\n",
       "      <td>21000.0</td>\n",
       "      <td>0.221190</td>\n",
       "      <td>0.415058</td>\n",
       "      <td>0.0</td>\n",
       "      <td>0.00</td>\n",
       "      <td>0.0</td>\n",
       "      <td>0.00</td>\n",
       "      <td>1.0</td>\n",
       "    </tr>\n",
       "  </tbody>\n",
       "</table>\n",
       "</div>"
      ],
      "text/plain": [
       "                              count           mean            std       min  \\\n",
       "ID                          21000.0   14949.183667    8632.775153       1.0   \n",
       "LIMIT_BAL                   21000.0  167214.746667  128965.188482   10000.0   \n",
       "SEX                         21000.0       1.607571       0.488303       1.0   \n",
       "EDUCATION                   21000.0       1.854190       0.791628       0.0   \n",
       "MARRIAGE                    21000.0       1.551714       0.521176       0.0   \n",
       "AGE                         21000.0      35.461619       9.206628      21.0   \n",
       "PAY_0                       21000.0      -0.011190       1.123210      -2.0   \n",
       "PAY_2                       21000.0      -0.127238       1.198957      -2.0   \n",
       "PAY_3                       21000.0      -0.164857       1.198624      -2.0   \n",
       "PAY_4                       21000.0      -0.218190       1.172210      -2.0   \n",
       "PAY_5                       21000.0      -0.260952       1.141454      -2.0   \n",
       "PAY_6                       21000.0      -0.288667       1.151592      -2.0   \n",
       "BILL_AMT1                   21000.0   51501.542381   73453.641859  -14386.0   \n",
       "BILL_AMT2                   21000.0   49463.502667   70866.586004  -69777.0   \n",
       "BILL_AMT3                   21000.0   47232.577762   69539.883466 -157264.0   \n",
       "BILL_AMT4                   21000.0   43387.372476   64081.073110 -170000.0   \n",
       "BILL_AMT5                   21000.0   40398.551095   60396.811177  -81334.0   \n",
       "BILL_AMT6                   21000.0   38931.194000   59196.499234 -209051.0   \n",
       "PAY_AMT1                    21000.0    5686.349333   16868.075695       0.0   \n",
       "PAY_AMT2                    21000.0    5923.003476   23909.526477       0.0   \n",
       "PAY_AMT3                    21000.0    5202.325333   17006.416467       0.0   \n",
       "PAY_AMT4                    21000.0    4793.172000   15467.403159       0.0   \n",
       "PAY_AMT5                    21000.0    4797.012952   15270.031988       0.0   \n",
       "PAY_AMT6                    21000.0    5211.736762   17698.795697       0.0   \n",
       "default_payment_next_month  21000.0       0.221190       0.415058       0.0   \n",
       "\n",
       "                                 25%       50%        75%        max  \n",
       "ID                           7508.75   14939.5   22386.75    29998.0  \n",
       "LIMIT_BAL                   50000.00  140000.0  240000.00   800000.0  \n",
       "SEX                             1.00       2.0       2.00        2.0  \n",
       "EDUCATION                       1.00       2.0       2.00        6.0  \n",
       "MARRIAGE                        1.00       2.0       2.00        3.0  \n",
       "AGE                            28.00      34.0      41.00       75.0  \n",
       "PAY_0                          -1.00       0.0       0.00        8.0  \n",
       "PAY_2                          -1.00       0.0       0.00        8.0  \n",
       "PAY_3                          -1.00       0.0       0.00        8.0  \n",
       "PAY_4                          -1.00       0.0       0.00        8.0  \n",
       "PAY_5                          -1.00       0.0       0.00        8.0  \n",
       "PAY_6                          -1.00       0.0       0.00        8.0  \n",
       "BILL_AMT1                    3564.75   22578.0   67876.25   746814.0  \n",
       "BILL_AMT2                    3000.00   21550.0   64918.25   743970.0  \n",
       "BILL_AMT3                    2686.25   20242.0   60826.75  1664089.0  \n",
       "BILL_AMT4                    2332.00   19158.5   55376.75   706864.0  \n",
       "BILL_AMT5                    1759.00   18266.5   50517.25   587067.0  \n",
       "BILL_AMT6                    1242.75   17203.5   49463.00   699944.0  \n",
       "PAY_AMT1                      998.25    2100.0    5023.25   873552.0  \n",
       "PAY_AMT2                      836.00    2011.0    5000.00  1684259.0  \n",
       "PAY_AMT3                      390.00    1811.5    4500.00   889043.0  \n",
       "PAY_AMT4                      284.00    1500.0    4002.25   621000.0  \n",
       "PAY_AMT5                      241.00    1500.0    4051.00   417990.0  \n",
       "PAY_AMT6                      102.00    1500.0    4000.00   528666.0  \n",
       "default_payment_next_month      0.00       0.0       0.00        1.0  "
      ]
     },
     "execution_count": 6,
     "metadata": {},
     "output_type": "execute_result"
    }
   ],
   "source": [
    "train.describe().T"
   ]
  },
  {
   "cell_type": "code",
   "execution_count": 7,
   "metadata": {},
   "outputs": [
    {
     "data": {
      "text/html": [
       "<div>\n",
       "<style scoped>\n",
       "    .dataframe tbody tr th:only-of-type {\n",
       "        vertical-align: middle;\n",
       "    }\n",
       "\n",
       "    .dataframe tbody tr th {\n",
       "        vertical-align: top;\n",
       "    }\n",
       "\n",
       "    .dataframe thead th {\n",
       "        text-align: right;\n",
       "    }\n",
       "</style>\n",
       "<table border=\"1\" class=\"dataframe\">\n",
       "  <thead>\n",
       "    <tr style=\"text-align: right;\">\n",
       "      <th></th>\n",
       "      <th>ID</th>\n",
       "      <th>LIMIT_BAL</th>\n",
       "      <th>SEX</th>\n",
       "      <th>EDUCATION</th>\n",
       "      <th>MARRIAGE</th>\n",
       "      <th>AGE</th>\n",
       "      <th>PAY_0</th>\n",
       "      <th>PAY_2</th>\n",
       "      <th>PAY_3</th>\n",
       "      <th>PAY_4</th>\n",
       "      <th>...</th>\n",
       "      <th>BILL_AMT3</th>\n",
       "      <th>BILL_AMT4</th>\n",
       "      <th>BILL_AMT5</th>\n",
       "      <th>BILL_AMT6</th>\n",
       "      <th>PAY_AMT1</th>\n",
       "      <th>PAY_AMT2</th>\n",
       "      <th>PAY_AMT3</th>\n",
       "      <th>PAY_AMT4</th>\n",
       "      <th>PAY_AMT5</th>\n",
       "      <th>PAY_AMT6</th>\n",
       "    </tr>\n",
       "  </thead>\n",
       "  <tbody>\n",
       "    <tr>\n",
       "      <td>0</td>\n",
       "      <td>10178</td>\n",
       "      <td>60000</td>\n",
       "      <td>2</td>\n",
       "      <td>2</td>\n",
       "      <td>1</td>\n",
       "      <td>30</td>\n",
       "      <td>0</td>\n",
       "      <td>0</td>\n",
       "      <td>0</td>\n",
       "      <td>0</td>\n",
       "      <td>...</td>\n",
       "      <td>38117</td>\n",
       "      <td>38874</td>\n",
       "      <td>38667</td>\n",
       "      <td>39544</td>\n",
       "      <td>1628</td>\n",
       "      <td>1618</td>\n",
       "      <td>1375</td>\n",
       "      <td>1403</td>\n",
       "      <td>1520</td>\n",
       "      <td>1205</td>\n",
       "    </tr>\n",
       "    <tr>\n",
       "      <td>1</td>\n",
       "      <td>5304</td>\n",
       "      <td>200000</td>\n",
       "      <td>2</td>\n",
       "      <td>1</td>\n",
       "      <td>2</td>\n",
       "      <td>29</td>\n",
       "      <td>0</td>\n",
       "      <td>0</td>\n",
       "      <td>0</td>\n",
       "      <td>0</td>\n",
       "      <td>...</td>\n",
       "      <td>76593</td>\n",
       "      <td>93988</td>\n",
       "      <td>50292</td>\n",
       "      <td>10510</td>\n",
       "      <td>4160</td>\n",
       "      <td>14593</td>\n",
       "      <td>20150</td>\n",
       "      <td>0</td>\n",
       "      <td>5739</td>\n",
       "      <td>12050</td>\n",
       "    </tr>\n",
       "    <tr>\n",
       "      <td>2</td>\n",
       "      <td>5187</td>\n",
       "      <td>230000</td>\n",
       "      <td>1</td>\n",
       "      <td>1</td>\n",
       "      <td>2</td>\n",
       "      <td>39</td>\n",
       "      <td>0</td>\n",
       "      <td>0</td>\n",
       "      <td>0</td>\n",
       "      <td>0</td>\n",
       "      <td>...</td>\n",
       "      <td>20650</td>\n",
       "      <td>0</td>\n",
       "      <td>0</td>\n",
       "      <td>0</td>\n",
       "      <td>2500</td>\n",
       "      <td>2000</td>\n",
       "      <td>0</td>\n",
       "      <td>0</td>\n",
       "      <td>0</td>\n",
       "      <td>0</td>\n",
       "    </tr>\n",
       "    <tr>\n",
       "      <td>3</td>\n",
       "      <td>14495</td>\n",
       "      <td>150000</td>\n",
       "      <td>1</td>\n",
       "      <td>1</td>\n",
       "      <td>2</td>\n",
       "      <td>40</td>\n",
       "      <td>0</td>\n",
       "      <td>0</td>\n",
       "      <td>0</td>\n",
       "      <td>0</td>\n",
       "      <td>...</td>\n",
       "      <td>145978</td>\n",
       "      <td>139791</td>\n",
       "      <td>142745</td>\n",
       "      <td>146872</td>\n",
       "      <td>5800</td>\n",
       "      <td>5245</td>\n",
       "      <td>5200</td>\n",
       "      <td>5200</td>\n",
       "      <td>6500</td>\n",
       "      <td>7200</td>\n",
       "    </tr>\n",
       "    <tr>\n",
       "      <td>4</td>\n",
       "      <td>20444</td>\n",
       "      <td>140000</td>\n",
       "      <td>1</td>\n",
       "      <td>2</td>\n",
       "      <td>2</td>\n",
       "      <td>27</td>\n",
       "      <td>0</td>\n",
       "      <td>0</td>\n",
       "      <td>0</td>\n",
       "      <td>0</td>\n",
       "      <td>...</td>\n",
       "      <td>76230</td>\n",
       "      <td>77954</td>\n",
       "      <td>78953</td>\n",
       "      <td>81848</td>\n",
       "      <td>10000</td>\n",
       "      <td>10000</td>\n",
       "      <td>3393</td>\n",
       "      <td>3260</td>\n",
       "      <td>5000</td>\n",
       "      <td>3000</td>\n",
       "    </tr>\n",
       "  </tbody>\n",
       "</table>\n",
       "<p>5 rows × 24 columns</p>\n",
       "</div>"
      ],
      "text/plain": [
       "      ID  LIMIT_BAL  SEX  EDUCATION  MARRIAGE  AGE  PAY_0  PAY_2  PAY_3  \\\n",
       "0  10178      60000    2          2         1   30      0      0      0   \n",
       "1   5304     200000    2          1         2   29      0      0      0   \n",
       "2   5187     230000    1          1         2   39      0      0      0   \n",
       "3  14495     150000    1          1         2   40      0      0      0   \n",
       "4  20444     140000    1          2         2   27      0      0      0   \n",
       "\n",
       "   PAY_4  ...  BILL_AMT3  BILL_AMT4  BILL_AMT5  BILL_AMT6  PAY_AMT1  PAY_AMT2  \\\n",
       "0      0  ...      38117      38874      38667      39544      1628      1618   \n",
       "1      0  ...      76593      93988      50292      10510      4160     14593   \n",
       "2      0  ...      20650          0          0          0      2500      2000   \n",
       "3      0  ...     145978     139791     142745     146872      5800      5245   \n",
       "4      0  ...      76230      77954      78953      81848     10000     10000   \n",
       "\n",
       "   PAY_AMT3  PAY_AMT4  PAY_AMT5  PAY_AMT6  \n",
       "0      1375      1403      1520      1205  \n",
       "1     20150         0      5739     12050  \n",
       "2         0         0         0         0  \n",
       "3      5200      5200      6500      7200  \n",
       "4      3393      3260      5000      3000  \n",
       "\n",
       "[5 rows x 24 columns]"
      ]
     },
     "execution_count": 7,
     "metadata": {},
     "output_type": "execute_result"
    }
   ],
   "source": [
    "test.head()"
   ]
  },
  {
   "cell_type": "code",
   "execution_count": 8,
   "metadata": {},
   "outputs": [
    {
     "data": {
      "text/plain": [
       "(9000, 24)"
      ]
     },
     "execution_count": 8,
     "metadata": {},
     "output_type": "execute_result"
    }
   ],
   "source": [
    "test.shape"
   ]
  },
  {
   "cell_type": "code",
   "execution_count": 9,
   "metadata": {},
   "outputs": [
    {
     "name": "stdout",
     "output_type": "stream",
     "text": [
      "<class 'pandas.core.frame.DataFrame'>\n",
      "RangeIndex: 9000 entries, 0 to 8999\n",
      "Data columns (total 24 columns):\n",
      "ID           9000 non-null int64\n",
      "LIMIT_BAL    9000 non-null int64\n",
      "SEX          9000 non-null int64\n",
      "EDUCATION    9000 non-null int64\n",
      "MARRIAGE     9000 non-null int64\n",
      "AGE          9000 non-null int64\n",
      "PAY_0        9000 non-null int64\n",
      "PAY_2        9000 non-null int64\n",
      "PAY_3        9000 non-null int64\n",
      "PAY_4        9000 non-null int64\n",
      "PAY_5        9000 non-null int64\n",
      "PAY_6        9000 non-null int64\n",
      "BILL_AMT1    9000 non-null int64\n",
      "BILL_AMT2    9000 non-null int64\n",
      "BILL_AMT3    9000 non-null int64\n",
      "BILL_AMT4    9000 non-null int64\n",
      "BILL_AMT5    9000 non-null int64\n",
      "BILL_AMT6    9000 non-null int64\n",
      "PAY_AMT1     9000 non-null int64\n",
      "PAY_AMT2     9000 non-null int64\n",
      "PAY_AMT3     9000 non-null int64\n",
      "PAY_AMT4     9000 non-null int64\n",
      "PAY_AMT5     9000 non-null int64\n",
      "PAY_AMT6     9000 non-null int64\n",
      "dtypes: int64(24)\n",
      "memory usage: 1.6 MB\n"
     ]
    }
   ],
   "source": [
    "test.info()"
   ]
  },
  {
   "cell_type": "code",
   "execution_count": 10,
   "metadata": {},
   "outputs": [
    {
     "data": {
      "text/plain": [
       "Text(0.5, 1.0, 'DITRIBUTION')"
      ]
     },
     "execution_count": 10,
     "metadata": {},
     "output_type": "execute_result"
    },
    {
     "data": {
      "image/png": "[encoded data removed]",
      "text/plain": [
       "<Figure size 864x504 with 1 Axes>"
      ]
     },
     "metadata": {
      "needs_background": "light"
     },
     "output_type": "display_data"
    }
   ],
   "source": [
    "plt.figure(figsize=(12,7))\n",
    "sns.distplot(train.default_payment_next_month,bins=20)\n",
    "plt.xlabel('LIMIT_BAL')\n",
    "plt.ylabel('EDUCATION')\n",
    "plt.title('DITRIBUTION')"
   ]
  },
  {
   "cell_type": "code",
   "execution_count": 11,
   "metadata": {},
   "outputs": [
    {
     "data": {
      "text/plain": [
       "<matplotlib.axes._subplots.AxesSubplot at 0x26f9bacea08>"
      ]
     },
     "execution_count": 11,
     "metadata": {},
     "output_type": "execute_result"
    },
    {
     "data": {
      "image/png": "[encoded data removed]",
      "text/plain": [
       "<Figure size 432x288 with 1 Axes>"
      ]
     },
     "metadata": {
      "needs_background": "light"
     },
     "output_type": "display_data"
    }
   ],
   "source": [
    "sns.countplot(train.MARRIAGE)"
   ]
  },
  {
   "cell_type": "code",
   "execution_count": 12,
   "metadata": {},
   "outputs": [
    {
     "data": {
      "text/plain": [
       "<matplotlib.axes._subplots.AxesSubplot at 0x26f9c14fd88>"
      ]
     },
     "execution_count": 12,
     "metadata": {},
     "output_type": "execute_result"
    },
    {
     "data": {
      "image/png": "[encoded data removed]",
      "text/plain": [
       "<Figure size 432x288 with 1 Axes>"
      ]
     },
     "metadata": {
      "needs_background": "light"
     },
     "output_type": "display_data"
    }
   ],
   "source": [
    "sns.countplot(train.SEX)"
   ]
  },
  {
   "cell_type": "code",
   "execution_count": 13,
   "metadata": {},
   "outputs": [
    {
     "data": {
      "text/plain": [
       "29    1088\n",
       "27    1052\n",
       "28     993\n",
       "30     972\n",
       "26     879\n",
       "25     847\n",
       "32     832\n",
       "31     825\n",
       "34     821\n",
       "33     815\n",
       "36     786\n",
       "35     784\n",
       "24     779\n",
       "37     738\n",
       "38     661\n",
       "39     660\n",
       "23     646\n",
       "40     602\n",
       "41     596\n",
       "42     550\n",
       "44     487\n",
       "43     470\n",
       "45     429\n",
       "46     412\n",
       "22     404\n",
       "47     331\n",
       "48     330\n",
       "49     315\n",
       "50     268\n",
       "51     243\n",
       "53     223\n",
       "52     207\n",
       "54     175\n",
       "55     136\n",
       "56     124\n",
       "58      88\n",
       "57      85\n",
       "59      63\n",
       "60      51\n",
       "21      45\n",
       "61      40\n",
       "63      27\n",
       "62      26\n",
       "66      18\n",
       "64      17\n",
       "65      16\n",
       "67      11\n",
       "69      11\n",
       "70       8\n",
       "71       3\n",
       "68       3\n",
       "75       3\n",
       "72       2\n",
       "73       2\n",
       "74       1\n",
       "Name: AGE, dtype: int64"
      ]
     },
     "execution_count": 13,
     "metadata": {},
     "output_type": "execute_result"
    }
   ],
   "source": [
    "train['AGE'].value_counts()"
   ]
  },
  {
   "cell_type": "code",
   "execution_count": 14,
   "metadata": {
    "scrolled": true
   },
   "outputs": [
    {
     "data": {
      "text/plain": [
       "<matplotlib.axes._subplots.AxesSubplot at 0x26f9c1a7188>"
      ]
     },
     "execution_count": 14,
     "metadata": {},
     "output_type": "execute_result"
    },
    {
     "data": {
      "image/png": "[encoded data removed]",
      "text/plain": [
       "<Figure size 432x288 with 1 Axes>"
      ]
     },
     "metadata": {
      "needs_background": "light"
     },
     "output_type": "display_data"
    }
   ],
   "source": [
    "sns.countplot(train.AGE)"
   ]
  },
  {
   "cell_type": "code",
   "execution_count": 15,
   "metadata": {},
   "outputs": [],
   "source": [
    "data = train.columns.tolist()\n",
    "data.remove('default_payment_next_month')\n",
    "X, Y = train[data], train['default_payment_next_month']"
   ]
  },
  {
   "cell_type": "code",
   "execution_count": 16,
   "metadata": {},
   "outputs": [],
   "source": [
    "from sklearn.preprocessing import StandardScaler\n",
    "from sklearn.model_selection import train_test_split"
   ]
  },
  {
   "cell_type": "code",
   "execution_count": 17,
   "metadata": {},
   "outputs": [],
   "source": [
    "X_train,X_test,Y_train,Y_test = train_test_split(X,Y, test_size=0.4, random_state=20)"
   ]
  },
  {
   "cell_type": "code",
   "execution_count": 18,
   "metadata": {},
   "outputs": [],
   "source": [
    "scaler = StandardScaler()\n",
    "x_train_sc = scaler.fit_transform(X_train)\n",
    "x_test_sc = scaler.transform(X_test)"
   ]
  },
  {
   "cell_type": "code",
   "execution_count": 19,
   "metadata": {},
   "outputs": [
    {
     "data": {
      "text/plain": [
       "(12600, 24)"
      ]
     },
     "execution_count": 19,
     "metadata": {},
     "output_type": "execute_result"
    }
   ],
   "source": [
    "x_train_sc.shape"
   ]
  },
  {
   "cell_type": "code",
   "execution_count": 20,
   "metadata": {},
   "outputs": [
    {
     "data": {
      "text/plain": [
       "(8400, 24)"
      ]
     },
     "execution_count": 20,
     "metadata": {},
     "output_type": "execute_result"
    }
   ],
   "source": [
    "x_test_sc.shape"
   ]
  },
  {
   "cell_type": "code",
   "execution_count": 26,
   "metadata": {},
   "outputs": [],
   "source": [
    "# Using Classification Algorithms\n",
    "# Using Logistic Regression\n",
    "from sklearn.linear_model import LogisticRegression\n",
    "lr = LogisticRegression()"
   ]
  },
  {
   "cell_type": "code",
   "execution_count": 27,
   "metadata": {},
   "outputs": [
    {
     "name": "stderr",
     "output_type": "stream",
     "text": [
      "C:\\Users\\aakas\\Anaconda3\\lib\\site-packages\\sklearn\\linear_model\\logistic.py:432: FutureWarning: Default solver will be changed to 'lbfgs' in 0.22. Specify a solver to silence this warning.\n",
      "  FutureWarning)\n"
     ]
    },
    {
     "data": {
      "text/plain": [
       "LogisticRegression(C=1.0, class_weight=None, dual=False, fit_intercept=True,\n",
       "                   intercept_scaling=1, l1_ratio=None, max_iter=100,\n",
       "                   multi_class='warn', n_jobs=None, penalty='l2',\n",
       "                   random_state=None, solver='warn', tol=0.0001, verbose=0,\n",
       "                   warm_start=False)"
      ]
     },
     "execution_count": 27,
     "metadata": {},
     "output_type": "execute_result"
    }
   ],
   "source": [
    "lr.fit(x_train_sc,Y_train)"
   ]
  },
  {
   "cell_type": "code",
   "execution_count": 28,
   "metadata": {},
   "outputs": [
    {
     "data": {
      "text/plain": [
       "array([-1.4936164])"
      ]
     },
     "execution_count": 28,
     "metadata": {},
     "output_type": "execute_result"
    }
   ],
   "source": [
    "lr.intercept_"
   ]
  },
  {
   "cell_type": "code",
   "execution_count": 29,
   "metadata": {},
   "outputs": [
    {
     "data": {
      "text/plain": [
       "array([[-0.00409707, -0.07762703, -0.02563516, -0.08462746, -0.07461651,\n",
       "         0.03565439,  0.66180022,  0.14979962,  0.04123871,  0.03125516,\n",
       "        -0.01026972,  0.02911782, -0.31024541,  0.01706282,  0.2559381 ,\n",
       "        -0.09469911,  0.04372657,  0.00493791, -0.20594854, -0.32585726,\n",
       "        -0.15390103, -0.0762301 , -0.05937404, -0.10731797]])"
      ]
     },
     "execution_count": 29,
     "metadata": {},
     "output_type": "execute_result"
    }
   ],
   "source": [
    "lr.coef_"
   ]
  },
  {
   "cell_type": "code",
   "execution_count": 33,
   "metadata": {},
   "outputs": [],
   "source": [
    "lr_Pred = lr.predict(x_test_sc)"
   ]
  },
  {
   "cell_type": "code",
   "execution_count": 32,
   "metadata": {},
   "outputs": [],
   "source": [
    "from sklearn.metrics import (confusion_matrix,accuracy_score,precision_score,recall_score,f1_score)"
   ]
  },
  {
   "cell_type": "code",
   "execution_count": 35,
   "metadata": {},
   "outputs": [
    {
     "name": "stdout",
     "output_type": "stream",
     "text": [
      "Confusion Matrix of LR: \n",
      " [[6362  169]\n",
      " [1428  441]]\n"
     ]
    }
   ],
   "source": [
    "print('Confusion Matrix of LR: \\n',confusion_matrix(Y_test,lr_Pred))"
   ]
  },
  {
   "cell_type": "code",
   "execution_count": 36,
   "metadata": {},
   "outputs": [
    {
     "name": "stdout",
     "output_type": "stream",
     "text": [
      "Accuracy Score of LR: \n",
      " 0.8098809523809524\n",
      "Precision Score of LR: \n",
      " 0.7229508196721312\n",
      "Recall Score of LR: \n",
      " 0.23595505617977527\n",
      "F1 Score of LR: \n",
      " 0.3557886244453409\n"
     ]
    }
   ],
   "source": [
    "print('Accuracy Score of LR: \\n',accuracy_score(Y_test,lr_Pred))\n",
    "print('Precision Score of LR: \\n',precision_score(Y_test,lr_Pred))\n",
    "print('Recall Score of LR: \\n',recall_score(Y_test,lr_Pred))\n",
    "print('F1 Score of LR: \\n',f1_score(Y_test,lr_Pred))"
   ]
  },
  {
   "cell_type": "code",
   "execution_count": 38,
   "metadata": {},
   "outputs": [
    {
     "data": {
      "text/plain": [
       "SVC(C=1.0, cache_size=200, class_weight=None, coef0=0.0,\n",
       "    decision_function_shape='ovr', degree=3, gamma='auto_deprecated',\n",
       "    kernel='rbf', max_iter=-1, probability=False, random_state=None,\n",
       "    shrinking=True, tol=0.001, verbose=False)"
      ]
     },
     "execution_count": 38,
     "metadata": {},
     "output_type": "execute_result"
    }
   ],
   "source": [
    "# By Using Support Vector Machine Classification Algorithm\n",
    "from sklearn.svm import SVC\n",
    "svc = SVC(kernel='rbf')\n",
    "svc.fit(x_train_sc,Y_train)"
   ]
  },
  {
   "cell_type": "code",
   "execution_count": 39,
   "metadata": {},
   "outputs": [],
   "source": [
    "svc_Pred = svc.predict(x_test_sc)"
   ]
  },
  {
   "cell_type": "code",
   "execution_count": 40,
   "metadata": {},
   "outputs": [
    {
     "name": "stdout",
     "output_type": "stream",
     "text": [
      "Confusion Matrix of SVM: \n",
      " [[6267  264]\n",
      " [1253  616]]\n",
      "Accuracy Score of SVM: \n",
      " 0.8194047619047619\n",
      "Precision Score of SVM: \n",
      " 0.7\n",
      "Recall Score of SVM: \n",
      " 0.3295880149812734\n",
      "F1 Score of SVM: \n",
      " 0.44816296835212804\n"
     ]
    }
   ],
   "source": [
    "print('Confusion Matrix of SVM: \\n',confusion_matrix(Y_test,svc_Pred))\n",
    "print('Accuracy Score of SVM: \\n',accuracy_score(Y_test,svc_Pred))\n",
    "print('Precision Score of SVM: \\n',precision_score(Y_test,svc_Pred))\n",
    "print('Recall Score of SVM: \\n',recall_score(Y_test,svc_Pred))\n",
    "print('F1 Score of SVM: \\n',f1_score(Y_test,svc_Pred))"
   ]
  },
  {
   "cell_type": "code",
   "execution_count": 41,
   "metadata": {},
   "outputs": [
    {
     "data": {
      "text/plain": [
       "DecisionTreeClassifier(class_weight=None, criterion='gini', max_depth=None,\n",
       "                       max_features=None, max_leaf_nodes=None,\n",
       "                       min_impurity_decrease=0.0, min_impurity_split=None,\n",
       "                       min_samples_leaf=1, min_samples_split=2,\n",
       "                       min_weight_fraction_leaf=0.0, presort=False,\n",
       "                       random_state=None, splitter='best')"
      ]
     },
     "execution_count": 41,
     "metadata": {},
     "output_type": "execute_result"
    }
   ],
   "source": [
    "# By Using Decision Tree classifier\n",
    "from sklearn.tree import DecisionTreeClassifier\n",
    "dc = DecisionTreeClassifier()\n",
    "dc.fit(x_train_sc,Y_train)"
   ]
  },
  {
   "cell_type": "code",
   "execution_count": 42,
   "metadata": {},
   "outputs": [],
   "source": [
    "dc_Pred = dc.predict(x_test_sc)"
   ]
  },
  {
   "cell_type": "code",
   "execution_count": 43,
   "metadata": {},
   "outputs": [
    {
     "name": "stdout",
     "output_type": "stream",
     "text": [
      "Confusion Matrix of DC : \n",
      " [[5316 1215]\n",
      " [1088  781]]\n",
      "Accuracy Score of DC: \n",
      " 0.7258333333333333\n",
      "Precision Score of DC: \n",
      " 0.3912825651302605\n",
      "Recall Score of DC: \n",
      " 0.4178705189941145\n",
      "F1 Score of DC: \n",
      " 0.40413971539456656\n"
     ]
    }
   ],
   "source": [
    "print('Confusion Matrix of DC : \\n',confusion_matrix(Y_test,dc_Pred))\n",
    "print('Accuracy Score of DC: \\n',accuracy_score(Y_test,dc_Pred))\n",
    "print('Precision Score of DC: \\n',precision_score(Y_test,dc_Pred))\n",
    "print('Recall Score of DC: \\n',recall_score(Y_test,dc_Pred))\n",
    "print('F1 Score of DC: \\n',f1_score(Y_test,dc_Pred))"
   ]
  },
  {
   "cell_type": "code",
   "execution_count": 44,
   "metadata": {},
   "outputs": [
    {
     "name": "stderr",
     "output_type": "stream",
     "text": [
      "C:\\Users\\aakas\\Anaconda3\\lib\\site-packages\\sklearn\\ensemble\\forest.py:245: FutureWarning: The default value of n_estimators will change from 10 in version 0.20 to 100 in 0.22.\n",
      "  \"10 in version 0.20 to 100 in 0.22.\", FutureWarning)\n"
     ]
    },
    {
     "data": {
      "text/plain": [
       "RandomForestClassifier(bootstrap=True, class_weight=None, criterion='gini',\n",
       "                       max_depth=None, max_features='auto', max_leaf_nodes=None,\n",
       "                       min_impurity_decrease=0.0, min_impurity_split=None,\n",
       "                       min_samples_leaf=1, min_samples_split=2,\n",
       "                       min_weight_fraction_leaf=0.0, n_estimators=10,\n",
       "                       n_jobs=None, oob_score=False, random_state=None,\n",
       "                       verbose=0, warm_start=False)"
      ]
     },
     "execution_count": 44,
     "metadata": {},
     "output_type": "execute_result"
    }
   ],
   "source": [
    "# By Using Random Forest Classifier\n",
    "from sklearn.ensemble import RandomForestClassifier\n",
    "rf = RandomForestClassifier()\n",
    "rf.fit(x_train_sc,Y_train)"
   ]
  },
  {
   "cell_type": "code",
   "execution_count": 45,
   "metadata": {},
   "outputs": [],
   "source": [
    "rf_Pred = rf.predict(x_test_sc)"
   ]
  },
  {
   "cell_type": "code",
   "execution_count": 46,
   "metadata": {},
   "outputs": [
    {
     "name": "stdout",
     "output_type": "stream",
     "text": [
      "Confusion Matrix of RF : \n",
      " [[6194  337]\n",
      " [1306  563]]\n",
      "Accuracy Score of RF: \n",
      " 0.804404761904762\n",
      "Precision Score of RF: \n",
      " 0.6255555555555555\n",
      "Recall Score of RF: \n",
      " 0.3012306046013911\n",
      "F1 Score of RF: \n",
      " 0.40664499819429395\n"
     ]
    }
   ],
   "source": [
    "print('Confusion Matrix of RF : \\n',confusion_matrix(Y_test,rf_Pred))\n",
    "print('Accuracy Score of RF: \\n',accuracy_score(Y_test,rf_Pred))\n",
    "print('Precision Score of RF: \\n',precision_score(Y_test,rf_Pred))\n",
    "print('Recall Score of RF: \\n',recall_score(Y_test,rf_Pred))\n",
    "print('F1 Score of RF: \\n',f1_score(Y_test,rf_Pred))"
   ]
  },
  {
   "cell_type": "code",
   "execution_count": 47,
   "metadata": {},
   "outputs": [
    {
     "data": {
      "text/plain": [
       "AdaBoostClassifier(algorithm='SAMME.R', base_estimator=None, learning_rate=1.0,\n",
       "                   n_estimators=50, random_state=None)"
      ]
     },
     "execution_count": 47,
     "metadata": {},
     "output_type": "execute_result"
    }
   ],
   "source": [
    "from sklearn.ensemble import AdaBoostClassifier\n",
    "ad = AdaBoostClassifier()\n",
    "ad.fit(x_train_sc,Y_train)"
   ]
  },
  {
   "cell_type": "code",
   "execution_count": 48,
   "metadata": {},
   "outputs": [],
   "source": [
    "ad_Pred = ad.predict(x_test_sc)"
   ]
  },
  {
   "cell_type": "code",
   "execution_count": 49,
   "metadata": {},
   "outputs": [
    {
     "name": "stdout",
     "output_type": "stream",
     "text": [
      "Confusion Matrix of AdaBoost : \n",
      " [[6267  264]\n",
      " [1295  574]]\n",
      "Accuracy Score of AdaBoost: \n",
      " 0.8144047619047619\n",
      "Precision Score of AdaBoost: \n",
      " 0.684964200477327\n",
      "Recall Score of AdaBoost: \n",
      " 0.30711610486891383\n",
      "F1 Score of AdaBoost: \n",
      " 0.4240857037310676\n"
     ]
    }
   ],
   "source": [
    "print('Confusion Matrix of AdaBoost : \\n',confusion_matrix(Y_test,ad_Pred))\n",
    "print('Accuracy Score of AdaBoost: \\n',accuracy_score(Y_test,ad_Pred))\n",
    "print('Precision Score of AdaBoost: \\n',precision_score(Y_test,ad_Pred))\n",
    "print('Recall Score of AdaBoost: \\n',recall_score(Y_test,ad_Pred))\n",
    "print('F1 Score of AdaBoost: \\n',f1_score(Y_test,ad_Pred))"
   ]
  },
  {
   "cell_type": "code",
   "execution_count": 50,
   "metadata": {},
   "outputs": [],
   "source": [
    "# Applying for GridSearch\n",
    "from sklearn.model_selection import GridSearchCV\n",
    "parameters =  {\"n_estimators\": [3,5,10],   # you can use any numbers, it wouldnt be affect the final result. no of decision trees.\n",
    "              \"criterion\":['gini','entropy'],\n",
    "              \"max_depth\": [2,3,5],     # Here you can use any numbers but if more depth then it takes more time for output.\n",
    "              \"min_samples_split\": [10, 20, 30],\n",
    "              \"min_samples_leaf\": [1, 5, 15],\n",
    "              \"min_weight_fraction_leaf\": [0.1, 0.05, 0.005]}\n",
    "grid_search = GridSearchCV(estimator=rf,\n",
    "                          param_grid= parameters,\n",
    "                          cv = 10,\n",
    "                          n_jobs = -1)\n",
    "grid_search = grid_search.fit(x_train_sc,Y_train)"
   ]
  },
  {
   "cell_type": "code",
   "execution_count": 51,
   "metadata": {},
   "outputs": [
    {
     "data": {
      "text/plain": [
       "{'criterion': ['gini', 'entropy'],\n",
       " 'max_depth': [2, 3, 5],\n",
       " 'min_samples_leaf': [1, 5, 15],\n",
       " 'min_samples_split': [10, 20, 30],\n",
       " 'min_weight_fraction_leaf': [0.1, 0.05, 0.005],\n",
       " 'n_estimators': [3, 5, 10]}"
      ]
     },
     "execution_count": 51,
     "metadata": {},
     "output_type": "execute_result"
    }
   ],
   "source": [
    "parameters"
   ]
  },
  {
   "cell_type": "code",
   "execution_count": 52,
   "metadata": {},
   "outputs": [],
   "source": [
    "best_accuracy = grid_search.best_score_"
   ]
  },
  {
   "cell_type": "code",
   "execution_count": 53,
   "metadata": {},
   "outputs": [
    {
     "data": {
      "text/plain": [
       "0.815"
      ]
     },
     "execution_count": 53,
     "metadata": {},
     "output_type": "execute_result"
    }
   ],
   "source": [
    "best_accuracy"
   ]
  },
  {
   "cell_type": "code",
   "execution_count": 54,
   "metadata": {},
   "outputs": [
    {
     "data": {
      "text/plain": [
       "{'criterion': 'gini',\n",
       " 'max_depth': 5,\n",
       " 'min_samples_leaf': 15,\n",
       " 'min_samples_split': 30,\n",
       " 'min_weight_fraction_leaf': 0.005,\n",
       " 'n_estimators': 5}"
      ]
     },
     "execution_count": 54,
     "metadata": {},
     "output_type": "execute_result"
    }
   ],
   "source": [
    "best_parameters = grid_search.best_params_\n",
    "best_parameters"
   ]
  },
  {
   "cell_type": "code",
   "execution_count": 65,
   "metadata": {},
   "outputs": [
    {
     "name": "stdout",
     "output_type": "stream",
     "text": [
      "[0 0 0 ... 0 0 0]\n"
     ]
    }
   ],
   "source": [
    "pred = grid_search.predict(x_test_sc)\n",
    "print(pred)"
   ]
  },
  {
   "cell_type": "code",
   "execution_count": 55,
   "metadata": {},
   "outputs": [
    {
     "data": {
      "text/plain": [
       "RandomForestClassifier(bootstrap=True, class_weight=None, criterion='gini',\n",
       "                       max_depth=5, max_features='auto', max_leaf_nodes=None,\n",
       "                       min_impurity_decrease=0.0, min_impurity_split=None,\n",
       "                       min_samples_leaf=15, min_samples_split=30,\n",
       "                       min_weight_fraction_leaf=0.005, n_estimators=5,\n",
       "                       n_jobs=None, oob_score=False, random_state=None,\n",
       "                       verbose=0, warm_start=False)"
      ]
     },
     "execution_count": 55,
     "metadata": {},
     "output_type": "execute_result"
    }
   ],
   "source": [
    "from sklearn.ensemble import RandomForestClassifier\n",
    "Tune_RF = RandomForestClassifier(n_estimators = best_parameters[\"n_estimators\"],\n",
    "                                 criterion = best_parameters[\"criterion\"],\n",
    "                                 max_depth = best_parameters[\"max_depth\"],\n",
    "                                 min_samples_split = best_parameters[\"min_samples_split\"],\n",
    "                                 min_samples_leaf = best_parameters[\"min_samples_leaf\"],\n",
    "                                 min_weight_fraction_leaf = best_parameters[\"min_weight_fraction_leaf\"])\n",
    "Tune_RF.fit(x_train_sc,Y_train)"
   ]
  },
  {
   "cell_type": "code",
   "execution_count": 56,
   "metadata": {},
   "outputs": [
    {
     "name": "stdout",
     "output_type": "stream",
     "text": [
      "Confusion Matrix of TuneRF : \n",
      " [[6237  294]\n",
      " [1253  616]]\n",
      "Accuracy Score of TuneRF: \n",
      " 0.8158333333333333\n",
      "Precision Score of TuneRF: \n",
      " 0.676923076923077\n",
      "Recall Score of TuneRF: \n",
      " 0.3295880149812734\n",
      "F1 Score of TuneRF: \n",
      " 0.4433249370277078\n"
     ]
    }
   ],
   "source": [
    "print('Confusion Matrix of TuneRF : \\n',confusion_matrix(Y_test,Tune_RF.predict(x_test_sc)))\n",
    "print('Accuracy Score of TuneRF: \\n',accuracy_score(Y_test,Tune_RF.predict(x_test_sc)))\n",
    "print('Precision Score of TuneRF: \\n',precision_score(Y_test,Tune_RF.predict(x_test_sc)))\n",
    "print('Recall Score of TuneRF: \\n',recall_score(Y_test,Tune_RF.predict(x_test_sc)))\n",
    "print('F1 Score of TuneRF: \\n',f1_score(Y_test,Tune_RF.predict(x_test_sc)))"
   ]
  },
  {
   "cell_type": "code",
   "execution_count": 66,
   "metadata": {},
   "outputs": [
    {
     "data": {
      "text/html": [
       "<div>\n",
       "<style scoped>\n",
       "    .dataframe tbody tr th:only-of-type {\n",
       "        vertical-align: middle;\n",
       "    }\n",
       "\n",
       "    .dataframe tbody tr th {\n",
       "        vertical-align: top;\n",
       "    }\n",
       "\n",
       "    .dataframe thead th {\n",
       "        text-align: right;\n",
       "    }\n",
       "</style>\n",
       "<table border=\"1\" class=\"dataframe\">\n",
       "  <thead>\n",
       "    <tr style=\"text-align: right;\">\n",
       "      <th></th>\n",
       "      <th>Prediction</th>\n",
       "    </tr>\n",
       "  </thead>\n",
       "  <tbody>\n",
       "    <tr>\n",
       "      <td>0</td>\n",
       "      <td>0</td>\n",
       "    </tr>\n",
       "    <tr>\n",
       "      <td>1</td>\n",
       "      <td>0</td>\n",
       "    </tr>\n",
       "    <tr>\n",
       "      <td>2</td>\n",
       "      <td>0</td>\n",
       "    </tr>\n",
       "    <tr>\n",
       "      <td>3</td>\n",
       "      <td>0</td>\n",
       "    </tr>\n",
       "    <tr>\n",
       "      <td>4</td>\n",
       "      <td>0</td>\n",
       "    </tr>\n",
       "    <tr>\n",
       "      <td>...</td>\n",
       "      <td>...</td>\n",
       "    </tr>\n",
       "    <tr>\n",
       "      <td>8395</td>\n",
       "      <td>0</td>\n",
       "    </tr>\n",
       "    <tr>\n",
       "      <td>8396</td>\n",
       "      <td>0</td>\n",
       "    </tr>\n",
       "    <tr>\n",
       "      <td>8397</td>\n",
       "      <td>0</td>\n",
       "    </tr>\n",
       "    <tr>\n",
       "      <td>8398</td>\n",
       "      <td>0</td>\n",
       "    </tr>\n",
       "    <tr>\n",
       "      <td>8399</td>\n",
       "      <td>0</td>\n",
       "    </tr>\n",
       "  </tbody>\n",
       "</table>\n",
       "<p>8400 rows × 1 columns</p>\n",
       "</div>"
      ],
      "text/plain": [
       "      Prediction\n",
       "0              0\n",
       "1              0\n",
       "2              0\n",
       "3              0\n",
       "4              0\n",
       "...          ...\n",
       "8395           0\n",
       "8396           0\n",
       "8397           0\n",
       "8398           0\n",
       "8399           0\n",
       "\n",
       "[8400 rows x 1 columns]"
      ]
     },
     "execution_count": 66,
     "metadata": {},
     "output_type": "execute_result"
    }
   ],
   "source": [
    "Output = pd.DataFrame(pred,columns=['Prediction'])\n",
    "Output"
   ]
  },
  {
   "cell_type": "code",
   "execution_count": null,
   "metadata": {},
   "outputs": [],
   "source": []
  }
 ],
 "metadata": {
  "kernelspec": {
   "display_name": "Python 3",
   "language": "python",
   "name": "python3"
  },
  "language_info": {
   "codemirror_mode": {
    "name": "ipython",
    "version": 3
   },
   "file_extension": ".py",
   "mimetype": "text/x-python",
   "name": "python",
   "nbconvert_exporter": "python",
   "pygments_lexer": "ipython3",
   "version": "3.7.4"
  }
 },
 "nbformat": 4,
 "nbformat_minor": 2
}
